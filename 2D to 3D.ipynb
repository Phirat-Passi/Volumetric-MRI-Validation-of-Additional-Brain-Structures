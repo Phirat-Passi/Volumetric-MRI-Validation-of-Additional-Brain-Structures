{
 "cells": [
  {
   "cell_type": "code",
   "execution_count": null,
   "id": "124aebc3",
   "metadata": {},
   "outputs": [],
   "source": [
    "import SimpleITK as sitk\n",
    "\n",
    "def resample_dwi_sequence(input_folder, output_folder):\n",
    "    # Load the list of DWI images\n",
    "    reader = sitk.ImageSeriesReader()\n",
    "    dicom_names = reader.GetGDCMSeriesFileNames(input_folder)\n",
    "    reader.SetFileNames(dicom_names)\n",
    "    original_dwi_sequence = reader.Execute()\n",
    "\n",
    "    # Define the target size (256x256x256)\n",
    "    target_size = [256, 256, 256]\n",
    "\n",
    "    # Get the original image size\n",
    "    original_size = original_dwi_sequence.GetSize()\n",
    "\n",
    "    # Calculate the resampling factor for each dimension\n",
    "    resampling_factors = [target_size[i] / original_size[i] for i in range(3)]\n",
    "\n",
    "    # Compute the new spacing\n",
    "    original_spacing = original_dwi_sequence.GetSpacing()\n",
    "    new_spacing = [original_spacing[i] / resampling_factors[i] for i in range(3)]\n",
    "\n",
    "    # Create the resampler\n",
    "    resampler = sitk.ResampleImageFilter()\n",
    "    resampler.SetOutputSpacing(new_spacing)\n",
    "    resampler.SetSize(target_size)\n",
    "\n",
    "    # Perform resampling and interpolation\n",
    "    resampled_dwi_sequence = resampler.Execute(original_dwi_sequence)\n",
    "\n",
    "    # Save the resampled DWI sequence\n",
    "    writer = sitk.ImageFileWriter()\n",
    "    writer.SetFileName(output_folder)\n",
    "    writer.Execute(resampled_dwi_sequence)\n",
    "\n",
    "if __name__ == \"__main__\":\n",
    "    # Replace \"path/to/input_folder\" with the folder containing your DWI sequence DICOM files.\n",
    "    input_folder = r\"C:\\Users\\lenovo\\In-Med Prognostics Project\\input_folder\"\n",
    "\n",
    "    # Replace \"path/to/output_folder/dwi_resampled.nii\" with the desired output file path and filename.\n",
    "    output_folder = r\"C:\\Users\\lenovo\\In-Med Prognostics Project\\Output\\output.nii.gz\"\n",
    "\n",
    "    resample_dwi_sequence(input_folder, output_folder)\n"
   ]
  },
  {
   "cell_type": "code",
   "execution_count": 26,
   "id": "e21a1698",
   "metadata": {},
   "outputs": [],
   "source": []
  },
  {
   "cell_type": "code",
   "execution_count": 28,
   "id": "9f2b078f",
   "metadata": {},
   "outputs": [],
   "source": []
  }
 ],
 "metadata": {
  "kernelspec": {
   "display_name": "Python 3 (ipykernel)",
   "language": "python",
   "name": "python3"
  },
  "language_info": {
   "codemirror_mode": {
    "name": "ipython",
    "version": 3
   },
   "file_extension": ".py",
   "mimetype": "text/x-python",
   "name": "python",
   "nbconvert_exporter": "python",
   "pygments_lexer": "ipython3",
   "version": "3.10.9"
  }
 },
 "nbformat": 4,
 "nbformat_minor": 5
}
