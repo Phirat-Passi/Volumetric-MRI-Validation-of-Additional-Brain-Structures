{
 "cells": [
  {
   "cell_type": "code",
   "execution_count": 59,
   "id": "124aebc3",
   "metadata": {},
   "outputs": [
    {
     "ename": "RuntimeError",
     "evalue": "Exception thrown in SimpleITK ImageSeriesReader_Execute: C:\\Miniconda\\envs\\bld\\conda-bld\\work\\Code\\IO\\src\\sitkImageSeriesReader.cxx:129:\nsitk::ERROR: File names information is empty. Cannot read series.",
     "output_type": "error",
     "traceback": [
      "\u001b[1;31m---------------------------------------------------------------------------\u001b[0m",
      "\u001b[1;31mRuntimeError\u001b[0m                              Traceback (most recent call last)",
      "Cell \u001b[1;32mIn[59], line 43\u001b[0m\n\u001b[0;32m     40\u001b[0m \u001b[39m# Replace \"path/to/output_folder/dwi_resampled.nii\" with the desired output file path and filename.\u001b[39;00m\n\u001b[0;32m     41\u001b[0m output_folder \u001b[39m=\u001b[39m \u001b[39mr\u001b[39m\u001b[39m\"\u001b[39m\u001b[39mC:\u001b[39m\u001b[39m\\\u001b[39m\u001b[39mUsers\u001b[39m\u001b[39m\\\u001b[39m\u001b[39mlenovo\u001b[39m\u001b[39m\\\u001b[39m\u001b[39mIn-Med Prognostics Project\u001b[39m\u001b[39m\\\u001b[39m\u001b[39mOutput\u001b[39m\u001b[39m\\\u001b[39m\u001b[39moutput.nii.gz\u001b[39m\u001b[39m\"\u001b[39m\n\u001b[1;32m---> 43\u001b[0m resample_dwi_sequence(input_folder, output_folder)\n",
      "Cell \u001b[1;32mIn[59], line 8\u001b[0m, in \u001b[0;36mresample_dwi_sequence\u001b[1;34m(input_folder, output_folder)\u001b[0m\n\u001b[0;32m      6\u001b[0m dicom_names \u001b[39m=\u001b[39m reader\u001b[39m.\u001b[39mGetGDCMSeriesFileNames(input_folder)\n\u001b[0;32m      7\u001b[0m reader\u001b[39m.\u001b[39mSetFileNames(dicom_names)\n\u001b[1;32m----> 8\u001b[0m original_dwi_sequence \u001b[39m=\u001b[39m reader\u001b[39m.\u001b[39;49mExecute()\n\u001b[0;32m     10\u001b[0m \u001b[39m# Define the target size (256x256x256)\u001b[39;00m\n\u001b[0;32m     11\u001b[0m target_size \u001b[39m=\u001b[39m [\u001b[39m256\u001b[39m, \u001b[39m256\u001b[39m, \u001b[39m256\u001b[39m]\n",
      "File \u001b[1;32mc:\\Users\\lenovo\\anaconda3\\lib\\site-packages\\SimpleITK\\SimpleITK.py:8276\u001b[0m, in \u001b[0;36mImageSeriesReader.Execute\u001b[1;34m(self)\u001b[0m\n\u001b[0;32m   8263\u001b[0m \u001b[39mdef\u001b[39;00m \u001b[39mExecute\u001b[39m(\u001b[39mself\u001b[39m):\n\u001b[0;32m   8264\u001b[0m     \u001b[39mr\u001b[39m\u001b[39m\"\"\"\u001b[39;00m\n\u001b[0;32m   8265\u001b[0m \u001b[39m    Execute(ImageSeriesReader self) -> Image\u001b[39;00m\n\u001b[0;32m   8266\u001b[0m \n\u001b[1;32m   (...)\u001b[0m\n\u001b[0;32m   8274\u001b[0m \n\u001b[0;32m   8275\u001b[0m \u001b[39m    \"\"\"\u001b[39;00m\n\u001b[1;32m-> 8276\u001b[0m     \u001b[39mreturn\u001b[39;00m _SimpleITK\u001b[39m.\u001b[39;49mImageSeriesReader_Execute(\u001b[39mself\u001b[39;49m)\n",
      "\u001b[1;31mRuntimeError\u001b[0m: Exception thrown in SimpleITK ImageSeriesReader_Execute: C:\\Miniconda\\envs\\bld\\conda-bld\\work\\Code\\IO\\src\\sitkImageSeriesReader.cxx:129:\nsitk::ERROR: File names information is empty. Cannot read series."
     ]
    }
   ],
   "source": [
    "import SimpleITK as sitk\n",
    "\n",
    "def resample_dwi_sequence(input_folder, output_folder):\n",
    "    # Load the list of DWI images\n",
    "    reader = sitk.ImageSeriesReader()\n",
    "    dicom_names = reader.GetGDCMSeriesFileNames(input_folder)\n",
    "    reader.SetFileNames(dicom_names)\n",
    "    original_dwi_sequence = reader.Execute()\n",
    "\n",
    "    # Define the target size (256x256x256)\n",
    "    target_size = [256, 256, 256]\n",
    "\n",
    "    # Get the original image size\n",
    "    original_size = original_dwi_sequence.GetSize()\n",
    "\n",
    "    # Calculate the resampling factor for each dimension\n",
    "    resampling_factors = [target_size[i] / original_size[i] for i in range(3)]\n",
    "\n",
    "    # Compute the new spacing\n",
    "    original_spacing = original_dwi_sequence.GetSpacing()\n",
    "    new_spacing = [original_spacing[i] / resampling_factors[i] for i in range(3)]\n",
    "\n",
    "    # Create the resampler\n",
    "    resampler = sitk.ResampleImageFilter()\n",
    "    resampler.SetOutputSpacing(new_spacing)\n",
    "    resampler.SetSize(target_size)\n",
    "\n",
    "    # Perform resampling and interpolation\n",
    "    resampled_dwi_sequence = resampler.Execute(original_dwi_sequence)\n",
    "\n",
    "    # Save the resampled DWI sequence\n",
    "    writer = sitk.ImageFileWriter()\n",
    "    writer.SetFileName(output_folder)\n",
    "    writer.Execute(resampled_dwi_sequence)\n",
    "\n",
    "if __name__ == \"__main__\":\n",
    "    # Replace \"path/to/input_folder\" with the folder containing your DWI sequence DICOM files.\n",
    "    input_folder = r\"C:\\Users\\lenovo\\In-Med Prognostics Project\\input_folder\"\n",
    "\n",
    "    # Replace \"path/to/output_folder/dwi_resampled.nii\" with the desired output file path and filename.\n",
    "    output_folder = r\"C:\\Users\\lenovo\\In-Med Prognostics Project\\Output\\output.nii.gz\"\n",
    "\n",
    "    resample_dwi_sequence(input_folder, output_folder)\n"
   ]
  },
  {
   "cell_type": "code",
   "execution_count": 26,
   "id": "e21a1698",
   "metadata": {},
   "outputs": [],
   "source": []
  },
  {
   "cell_type": "code",
   "execution_count": 28,
   "id": "9f2b078f",
   "metadata": {},
   "outputs": [],
   "source": []
  }
 ],
 "metadata": {
  "kernelspec": {
   "display_name": "Python 3 (ipykernel)",
   "language": "python",
   "name": "python3"
  },
  "language_info": {
   "codemirror_mode": {
    "name": "ipython",
    "version": 3
   },
   "file_extension": ".py",
   "mimetype": "text/x-python",
   "name": "python",
   "nbconvert_exporter": "python",
   "pygments_lexer": "ipython3",
   "version": "3.10.9"
  }
 },
 "nbformat": 4,
 "nbformat_minor": 5
}
